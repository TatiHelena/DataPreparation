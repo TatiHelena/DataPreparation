{
 "cells": [
  {
   "cell_type": "markdown",
   "id": "be8c5d5f",
   "metadata": {},
   "source": [
    "## CA1 Data Preparation"
   ]
  },
  {
   "cell_type": "code",
   "execution_count": 1,
   "id": "00fbe94b",
   "metadata": {},
   "outputs": [],
   "source": [
    "import pandas as pd   ##data strutures and manipulations tools \n",
    "import seaborn as sns  ##Visualization Library \n",
    "import numpy as np      ##Numerical python tool\n",
    "import matplotlib.pyplot as plt   ##Visualization tool \n",
    "from sklearn.decomposition import PCA   ##Scikit-Learn, analytical library \n",
    "\n",
    "sns.set() #Using Seaborn graphics for all my visualizations"
   ]
  },
  {
   "cell_type": "code",
   "execution_count": null,
   "id": "10db8745",
   "metadata": {},
   "outputs": [],
   "source": []
  }
 ],
 "metadata": {
  "kernelspec": {
   "display_name": "Python 3 (ipykernel)",
   "language": "python",
   "name": "python3"
  },
  "language_info": {
   "codemirror_mode": {
    "name": "ipython",
    "version": 3
   },
   "file_extension": ".py",
   "mimetype": "text/x-python",
   "name": "python",
   "nbconvert_exporter": "python",
   "pygments_lexer": "ipython3",
   "version": "3.11.4"
  }
 },
 "nbformat": 4,
 "nbformat_minor": 5
}
